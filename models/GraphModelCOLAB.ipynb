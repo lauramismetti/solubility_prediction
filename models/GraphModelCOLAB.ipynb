{
  "nbformat": 4,
  "nbformat_minor": 0,
  "metadata": {
    "colab": {
      "provenance": []
    },
    "kernelspec": {
      "name": "python3",
      "display_name": "Python 3"
    },
    "language_info": {
      "name": "python"
    }
  },
  "cells": [
    {
      "cell_type": "code",
      "execution_count": 6,
      "metadata": {
        "colab": {
          "base_uri": "https://localhost:8080/"
        },
        "id": "f7W82Yq3SQBO",
        "outputId": "1c385362-ed44-494a-ee76-9dfa010bcedc"
      },
      "outputs": [
        {
          "output_type": "stream",
          "name": "stdout",
          "text": [
            "  % Total    % Received % Xferd  Average Speed   Time    Time     Time  Current\n",
            "                                 Dload  Upload   Total   Spent    Left  Speed\n",
            "100   163  100   163    0     0   2116      0 --:--:-- --:--:-- --:--:--  2116\n",
            "  0     0    0     0    0     0      0      0 --:--:-- --:--:-- --:--:--     0\n",
            "  0     0    0     0    0     0      0      0 --:--:-- --:--:-- --:--:--     0\n",
            "100 29.6M  100 29.6M    0     0  10.5M      0  0:00:02  0:00:02 --:--:-- 19.8M\n",
            "fatal: destination path 'chemprop' already exists and is not an empty directory.\n",
            "Looking in indexes: https://pypi.org/simple, https://us-python.pkg.dev/colab-wheels/public/simple/\n",
            "Obtaining file:///content/chemprop/chemprop/chemprop\n",
            "Requirement already satisfied: flask>=1.1.2 in /usr/local/lib/python3.7/dist-packages (from chemprop==1.5.2) (1.1.4)\n",
            "Requirement already satisfied: hyperopt>=0.2.3 in /usr/local/lib/python3.7/dist-packages (from chemprop==1.5.2) (0.2.7)\n",
            "Requirement already satisfied: matplotlib>=3.1.3 in /usr/local/lib/python3.7/dist-packages (from chemprop==1.5.2) (3.2.2)\n",
            "Requirement already satisfied: numpy>=1.18.1 in /usr/local/lib/python3.7/dist-packages (from chemprop==1.5.2) (1.21.6)\n",
            "Requirement already satisfied: pandas>=1.0.3 in /usr/local/lib/python3.7/dist-packages (from chemprop==1.5.2) (1.3.5)\n",
            "Requirement already satisfied: pandas-flavor>=0.2.0 in /usr/local/lib/python3.7/dist-packages (from chemprop==1.5.2) (0.2.0)\n",
            "Requirement already satisfied: scikit-learn>=0.22.2.post1 in /usr/local/lib/python3.7/dist-packages (from chemprop==1.5.2) (1.0.2)\n",
            "Requirement already satisfied: scipy>=1.5.2 in /usr/local/lib/python3.7/dist-packages (from chemprop==1.5.2) (1.7.3)\n",
            "Requirement already satisfied: sphinx>=3.1.2 in /usr/local/lib/python3.7/dist-packages (from chemprop==1.5.2) (5.1.1)\n",
            "Requirement already satisfied: tensorboardX>=2.0 in /usr/local/lib/python3.7/dist-packages (from chemprop==1.5.2) (2.5.1)\n",
            "Requirement already satisfied: torch>=1.5.2 in /usr/local/lib/python3.7/dist-packages (from chemprop==1.5.2) (1.12.1+cu113)\n",
            "Requirement already satisfied: tqdm>=4.45.0 in /usr/local/lib/python3.7/dist-packages (from chemprop==1.5.2) (4.64.1)\n",
            "Requirement already satisfied: typed-argument-parser>=1.6.1 in /usr/local/lib/python3.7/dist-packages (from chemprop==1.5.2) (1.7.2)\n",
            "Requirement already satisfied: Jinja2<3.0,>=2.10.1 in /usr/local/lib/python3.7/dist-packages (from flask>=1.1.2->chemprop==1.5.2) (2.11.3)\n",
            "Requirement already satisfied: click<8.0,>=5.1 in /usr/local/lib/python3.7/dist-packages (from flask>=1.1.2->chemprop==1.5.2) (7.1.2)\n",
            "Requirement already satisfied: Werkzeug<2.0,>=0.15 in /usr/local/lib/python3.7/dist-packages (from flask>=1.1.2->chemprop==1.5.2) (1.0.1)\n",
            "Requirement already satisfied: itsdangerous<2.0,>=0.24 in /usr/local/lib/python3.7/dist-packages (from flask>=1.1.2->chemprop==1.5.2) (1.1.0)\n",
            "Requirement already satisfied: networkx>=2.2 in /usr/local/lib/python3.7/dist-packages (from hyperopt>=0.2.3->chemprop==1.5.2) (2.6.3)\n",
            "Requirement already satisfied: six in /usr/local/lib/python3.7/dist-packages (from hyperopt>=0.2.3->chemprop==1.5.2) (1.15.0)\n",
            "Requirement already satisfied: cloudpickle in /usr/local/lib/python3.7/dist-packages (from hyperopt>=0.2.3->chemprop==1.5.2) (1.5.0)\n",
            "Requirement already satisfied: py4j in /usr/local/lib/python3.7/dist-packages (from hyperopt>=0.2.3->chemprop==1.5.2) (0.10.9.7)\n",
            "Requirement already satisfied: future in /usr/local/lib/python3.7/dist-packages (from hyperopt>=0.2.3->chemprop==1.5.2) (0.16.0)\n",
            "Requirement already satisfied: MarkupSafe>=0.23 in /usr/local/lib/python3.7/dist-packages (from Jinja2<3.0,>=2.10.1->flask>=1.1.2->chemprop==1.5.2) (2.0.1)\n",
            "Requirement already satisfied: pyparsing!=2.0.4,!=2.1.2,!=2.1.6,>=2.0.1 in /usr/local/lib/python3.7/dist-packages (from matplotlib>=3.1.3->chemprop==1.5.2) (3.0.9)\n",
            "Requirement already satisfied: cycler>=0.10 in /usr/local/lib/python3.7/dist-packages (from matplotlib>=3.1.3->chemprop==1.5.2) (0.11.0)\n",
            "Requirement already satisfied: kiwisolver>=1.0.1 in /usr/local/lib/python3.7/dist-packages (from matplotlib>=3.1.3->chemprop==1.5.2) (1.4.4)\n",
            "Requirement already satisfied: python-dateutil>=2.1 in /usr/local/lib/python3.7/dist-packages (from matplotlib>=3.1.3->chemprop==1.5.2) (2.8.2)\n",
            "Requirement already satisfied: typing-extensions in /usr/local/lib/python3.7/dist-packages (from kiwisolver>=1.0.1->matplotlib>=3.1.3->chemprop==1.5.2) (4.1.1)\n",
            "Requirement already satisfied: pytz>=2017.3 in /usr/local/lib/python3.7/dist-packages (from pandas>=1.0.3->chemprop==1.5.2) (2022.6)\n",
            "Requirement already satisfied: xarray in /usr/local/lib/python3.7/dist-packages (from pandas-flavor>=0.2.0->chemprop==1.5.2) (0.20.2)\n",
            "Requirement already satisfied: joblib>=0.11 in /usr/local/lib/python3.7/dist-packages (from scikit-learn>=0.22.2.post1->chemprop==1.5.2) (1.2.0)\n",
            "Requirement already satisfied: threadpoolctl>=2.0.0 in /usr/local/lib/python3.7/dist-packages (from scikit-learn>=0.22.2.post1->chemprop==1.5.2) (3.1.0)\n",
            "Requirement already satisfied: sphinxcontrib-jsmath in /usr/local/lib/python3.7/dist-packages (from sphinx>=3.1.2->chemprop==1.5.2) (1.0.1)\n",
            "Requirement already satisfied: Pygments>=2.0 in /usr/local/lib/python3.7/dist-packages (from sphinx>=3.1.2->chemprop==1.5.2) (2.6.1)\n",
            "Requirement already satisfied: sphinxcontrib-serializinghtml>=1.1.5 in /usr/local/lib/python3.7/dist-packages (from sphinx>=3.1.2->chemprop==1.5.2) (1.1.5)\n",
            "Requirement already satisfied: requests>=2.5.0 in /usr/local/lib/python3.7/dist-packages (from sphinx>=3.1.2->chemprop==1.5.2) (2.23.0)\n",
            "Requirement already satisfied: snowballstemmer>=1.1 in /usr/local/lib/python3.7/dist-packages (from sphinx>=3.1.2->chemprop==1.5.2) (2.2.0)\n",
            "Requirement already satisfied: alabaster<0.8,>=0.7 in /usr/local/lib/python3.7/dist-packages (from sphinx>=3.1.2->chemprop==1.5.2) (0.7.12)\n",
            "Requirement already satisfied: importlib-metadata>=4.4 in /usr/local/lib/python3.7/dist-packages (from sphinx>=3.1.2->chemprop==1.5.2) (4.13.0)\n",
            "Requirement already satisfied: packaging in /usr/local/lib/python3.7/dist-packages (from sphinx>=3.1.2->chemprop==1.5.2) (21.3)\n",
            "Requirement already satisfied: sphinxcontrib-htmlhelp>=2.0.0 in /usr/local/lib/python3.7/dist-packages (from sphinx>=3.1.2->chemprop==1.5.2) (2.0.0)\n",
            "Requirement already satisfied: sphinxcontrib-qthelp in /usr/local/lib/python3.7/dist-packages (from sphinx>=3.1.2->chemprop==1.5.2) (1.0.3)\n",
            "Requirement already satisfied: babel>=1.3 in /usr/local/lib/python3.7/dist-packages (from sphinx>=3.1.2->chemprop==1.5.2) (2.11.0)\n",
            "Requirement already satisfied: docutils<0.20,>=0.14 in /usr/local/lib/python3.7/dist-packages (from sphinx>=3.1.2->chemprop==1.5.2) (0.17.1)\n",
            "Requirement already satisfied: sphinxcontrib-applehelp in /usr/local/lib/python3.7/dist-packages (from sphinx>=3.1.2->chemprop==1.5.2) (1.0.2)\n",
            "Requirement already satisfied: sphinxcontrib-devhelp in /usr/local/lib/python3.7/dist-packages (from sphinx>=3.1.2->chemprop==1.5.2) (1.0.2)\n",
            "Requirement already satisfied: imagesize in /usr/local/lib/python3.7/dist-packages (from sphinx>=3.1.2->chemprop==1.5.2) (1.4.1)\n",
            "Requirement already satisfied: zipp>=0.5 in /usr/local/lib/python3.7/dist-packages (from importlib-metadata>=4.4->sphinx>=3.1.2->chemprop==1.5.2) (3.10.0)\n",
            "Requirement already satisfied: idna<3,>=2.5 in /usr/local/lib/python3.7/dist-packages (from requests>=2.5.0->sphinx>=3.1.2->chemprop==1.5.2) (2.10)\n",
            "Requirement already satisfied: certifi>=2017.4.17 in /usr/local/lib/python3.7/dist-packages (from requests>=2.5.0->sphinx>=3.1.2->chemprop==1.5.2) (2022.9.24)\n",
            "Requirement already satisfied: chardet<4,>=3.0.2 in /usr/local/lib/python3.7/dist-packages (from requests>=2.5.0->sphinx>=3.1.2->chemprop==1.5.2) (3.0.4)\n",
            "Requirement already satisfied: urllib3!=1.25.0,!=1.25.1,<1.26,>=1.21.1 in /usr/local/lib/python3.7/dist-packages (from requests>=2.5.0->sphinx>=3.1.2->chemprop==1.5.2) (1.24.3)\n",
            "Requirement already satisfied: protobuf<=3.20.1,>=3.8.0 in /usr/local/lib/python3.7/dist-packages (from tensorboardX>=2.0->chemprop==1.5.2) (3.19.6)\n",
            "Requirement already satisfied: typing-inspect>=0.7.1 in /usr/local/lib/python3.7/dist-packages (from typed-argument-parser>=1.6.1->chemprop==1.5.2) (0.8.0)\n",
            "Requirement already satisfied: mypy-extensions>=0.3.0 in /usr/local/lib/python3.7/dist-packages (from typing-inspect>=0.7.1->typed-argument-parser>=1.6.1->chemprop==1.5.2) (0.4.3)\n",
            "Installing collected packages: chemprop\n",
            "  Attempting uninstall: chemprop\n",
            "    Found existing installation: chemprop 1.5.2\n",
            "    Can't uninstall 'chemprop'. No files were found to uninstall.\n",
            "  Running setup.py develop for chemprop\n",
            "Successfully installed chemprop-1.5.2\n"
          ]
        }
      ],
      "source": [
        "import os\n",
        "\n",
        "!curl -L bit.ly/rdkit-colab | tar xz -C / # shortcut install of rdkit 2020.09.01 for Colab\n",
        "\n",
        "!git clone https://github.com/chemprop/chemprop\n",
        "os.chdir('chemprop')\n",
        "!pip install -e .\n",
        "\n",
        "import chemprop\n",
        "import pandas as pd\n",
        "import matplotlib.pyplot as plt\n",
        "from matplotlib.offsetbox import AnchoredText\n",
        "from sklearn.metrics import mean_absolute_error, mean_squared_error\n",
        "from sklearn.decomposition import PCA\n"
      ]
    },
    {
      "cell_type": "code",
      "source": [
        "# Training\n",
        "def train_graph_model(data_path='train.csv', CV=5):\n",
        "    \"\"\"\n",
        "    Function that trains the MPNN\n",
        "    :param data_path:\n",
        "    :param CV:\n",
        "    :return: mean, standard deviation\n",
        "    \"\"\"\n",
        "    import chemprop\n",
        "    arguments = [\n",
        "        '--data_path', data_path,\n",
        "        '--dataset_type', 'multiclass',\n",
        "        '--save_dir', 'GraphModelCheckpoint',\n",
        "        '--smiles_columns', 'smiles',\n",
        "        '--target_columns', 'sol_category',\n",
        "        \"--metric\", \"cross_entropy\",\n",
        "        \"--dropout\", \"0.05\",\n",
        "        \"--epochs\", \"1\",\n",
        "        \"--num_folds\", f\"{CV}\",\n",
        "        \"--cuda\", \"True\",\n",
        "        \"--device\", \"cuda\"\n",
        "    ]\n",
        "\n",
        "    args = chemprop.args.TrainArgs().parse_args(arguments)\n",
        "    mean_score, std_score = chemprop.train.cross_validate(args=args, train_func=chemprop.train.run_training)\n",
        "\n",
        "    return mean_score, std_score\n",
        "\n",
        "\n",
        "# Testing\n",
        "def test_graph_model(data_path='test.csv', preds_path='predictions_graphs.csv', CV=5):\n",
        "    \"\"\"\n",
        "    Function that makes predictions on our test data starting from the trained model\n",
        "    :param data_path:\n",
        "    :param preds_path:\n",
        "    :param CV:\n",
        "    :return: final predictions\n",
        "    \"\"\"\n",
        "    import chemprop\n",
        "    arguments = [\n",
        "        '--test_path', data_path,\n",
        "        '--preds_path', preds_path,\n",
        "        '--checkpoint_dir', 'GraphModelCheckpoint',\n",
        "        '--smiles_columns', 'smiles',\n",
        "        \"--cuda\", \"True\",\n",
        "        \"--device\", \"cuda\"\n",
        "    ]\n",
        "\n",
        "    args = chemprop.args.PredictArgs().parse_args(arguments)\n",
        "    preds = chemprop.train.make_predictions(args=args)\n",
        "\n",
        "    return preds\n"
      ],
      "metadata": {
        "id": "MgHlwniNkgLP"
      },
      "execution_count": 9,
      "outputs": []
    },
    {
      "cell_type": "code",
      "source": [
        "this_dir = os.path.dirname(os.getcwd())\n",
        "data_dir = os.path.join(this_dir, \"data\")\n",
        "train_path = os.path.join(data_dir, \"train.csv\")\n",
        "test_path = os.path.join(data_dir, \"test.csv\")\n",
        "\n",
        "\n",
        "# Train the model\n",
        "mean, std = train_graph_model()"
      ],
      "metadata": {
        "colab": {
          "base_uri": "https://localhost:8080/",
          "height": 322
        },
        "id": "E2XjII0gdz6h",
        "outputId": "73af4c6a-cbbe-4a27-8cd4-e4cbccdc70c9"
      },
      "execution_count": 10,
      "outputs": [
        {
          "output_type": "error",
          "ename": "UnboundLocalError",
          "evalue": "ignored",
          "traceback": [
            "\u001b[0;31m---------------------------------------------------------------------------\u001b[0m",
            "\u001b[0;31mUnboundLocalError\u001b[0m                         Traceback (most recent call last)",
            "\u001b[0;32m<ipython-input-10-86dce74283f6>\u001b[0m in \u001b[0;36m<module>\u001b[0;34m\u001b[0m\n\u001b[1;32m      6\u001b[0m \u001b[0;34m\u001b[0m\u001b[0m\n\u001b[1;32m      7\u001b[0m \u001b[0;31m# Train the model\u001b[0m\u001b[0;34m\u001b[0m\u001b[0;34m\u001b[0m\u001b[0;34m\u001b[0m\u001b[0m\n\u001b[0;32m----> 8\u001b[0;31m \u001b[0mmean\u001b[0m\u001b[0;34m,\u001b[0m \u001b[0mstd\u001b[0m \u001b[0;34m=\u001b[0m \u001b[0mtrain_graph_model\u001b[0m\u001b[0;34m(\u001b[0m\u001b[0;34m)\u001b[0m\u001b[0;34m\u001b[0m\u001b[0;34m\u001b[0m\u001b[0m\n\u001b[0m",
            "\u001b[0;32m<ipython-input-9-1c58bd7bb5c6>\u001b[0m in \u001b[0;36mtrain_graph_model\u001b[0;34m(data_path, CV)\u001b[0m\n\u001b[1;32m     22\u001b[0m     ]\n\u001b[1;32m     23\u001b[0m \u001b[0;34m\u001b[0m\u001b[0m\n\u001b[0;32m---> 24\u001b[0;31m     \u001b[0margs\u001b[0m \u001b[0;34m=\u001b[0m \u001b[0margs\u001b[0m\u001b[0;34m.\u001b[0m\u001b[0mTrainArgs\u001b[0m\u001b[0;34m(\u001b[0m\u001b[0;34m)\u001b[0m\u001b[0;34m.\u001b[0m\u001b[0mparse_args\u001b[0m\u001b[0;34m(\u001b[0m\u001b[0marguments\u001b[0m\u001b[0;34m)\u001b[0m\u001b[0;34m\u001b[0m\u001b[0;34m\u001b[0m\u001b[0m\n\u001b[0m\u001b[1;32m     25\u001b[0m     \u001b[0mmean_score\u001b[0m\u001b[0;34m,\u001b[0m \u001b[0mstd_score\u001b[0m \u001b[0;34m=\u001b[0m \u001b[0mchemprop\u001b[0m\u001b[0;34m.\u001b[0m\u001b[0mtrain\u001b[0m\u001b[0;34m.\u001b[0m\u001b[0mcross_validate\u001b[0m\u001b[0;34m(\u001b[0m\u001b[0margs\u001b[0m\u001b[0;34m=\u001b[0m\u001b[0margs\u001b[0m\u001b[0;34m,\u001b[0m \u001b[0mtrain_func\u001b[0m\u001b[0;34m=\u001b[0m\u001b[0mchemprop\u001b[0m\u001b[0;34m.\u001b[0m\u001b[0mtrain\u001b[0m\u001b[0;34m.\u001b[0m\u001b[0mrun_training\u001b[0m\u001b[0;34m)\u001b[0m\u001b[0;34m\u001b[0m\u001b[0;34m\u001b[0m\u001b[0m\n\u001b[1;32m     26\u001b[0m \u001b[0;34m\u001b[0m\u001b[0m\n",
            "\u001b[0;31mUnboundLocalError\u001b[0m: local variable 'args' referenced before assignment"
          ]
        }
      ]
    },
    {
      "cell_type": "code",
      "source": [
        "# Make predictions\n",
        "final_predictions = test_graph_model()\n",
        "\n",
        "# submission_file = os.path.join(this_dir, \"predictions_graphs.csv\")\n",
        "# create_submission_file(submission_ids, final_predictions, submission_file)\n"
      ],
      "metadata": {
        "colab": {
          "base_uri": "https://localhost:8080/",
          "height": 357
        },
        "id": "R6XDkx2xeFcQ",
        "outputId": "f00f4ed7-c499-4f04-caa6-1bb5bf5f6056"
      },
      "execution_count": 4,
      "outputs": [
        {
          "output_type": "error",
          "ename": "AttributeError",
          "evalue": "ignored",
          "traceback": [
            "\u001b[0;31m---------------------------------------------------------------------------\u001b[0m",
            "\u001b[0;31mAttributeError\u001b[0m                            Traceback (most recent call last)",
            "\u001b[0;32m<ipython-input-4-25c65a6395c9>\u001b[0m in \u001b[0;36m<module>\u001b[0;34m\u001b[0m\n\u001b[1;32m      1\u001b[0m \u001b[0;31m# Make predictions\u001b[0m\u001b[0;34m\u001b[0m\u001b[0;34m\u001b[0m\u001b[0;34m\u001b[0m\u001b[0m\n\u001b[0;32m----> 2\u001b[0;31m \u001b[0mfinal_predictions\u001b[0m \u001b[0;34m=\u001b[0m \u001b[0mtest_graph_model\u001b[0m\u001b[0;34m(\u001b[0m\u001b[0;34m)\u001b[0m\u001b[0;34m\u001b[0m\u001b[0;34m\u001b[0m\u001b[0m\n\u001b[0m\u001b[1;32m      3\u001b[0m \u001b[0;34m\u001b[0m\u001b[0m\n\u001b[1;32m      4\u001b[0m \u001b[0;31m# submission_file = os.path.join(this_dir, \"predictions_graphs.csv\")\u001b[0m\u001b[0;34m\u001b[0m\u001b[0;34m\u001b[0m\u001b[0;34m\u001b[0m\u001b[0m\n\u001b[1;32m      5\u001b[0m \u001b[0;31m# create_submission_file(submission_ids, final_predictions, submission_file)\u001b[0m\u001b[0;34m\u001b[0m\u001b[0;34m\u001b[0m\u001b[0;34m\u001b[0m\u001b[0m\n",
            "\u001b[0;32m<ipython-input-2-85e0e4c42c3c>\u001b[0m in \u001b[0;36mtest_graph_model\u001b[0;34m(data_path, preds_path, CV)\u001b[0m\n\u001b[1;32m     47\u001b[0m     ]\n\u001b[1;32m     48\u001b[0m \u001b[0;34m\u001b[0m\u001b[0m\n\u001b[0;32m---> 49\u001b[0;31m     \u001b[0margs\u001b[0m \u001b[0;34m=\u001b[0m \u001b[0mchemprop\u001b[0m\u001b[0;34m.\u001b[0m\u001b[0margs\u001b[0m\u001b[0;34m.\u001b[0m\u001b[0mPredictArgs\u001b[0m\u001b[0;34m(\u001b[0m\u001b[0;34m)\u001b[0m\u001b[0;34m.\u001b[0m\u001b[0mparse_args\u001b[0m\u001b[0;34m(\u001b[0m\u001b[0marguments\u001b[0m\u001b[0;34m)\u001b[0m\u001b[0;34m\u001b[0m\u001b[0;34m\u001b[0m\u001b[0m\n\u001b[0m\u001b[1;32m     50\u001b[0m     \u001b[0mpreds\u001b[0m \u001b[0;34m=\u001b[0m \u001b[0mchemprop\u001b[0m\u001b[0;34m.\u001b[0m\u001b[0mtrain\u001b[0m\u001b[0;34m.\u001b[0m\u001b[0mmake_predictions\u001b[0m\u001b[0;34m(\u001b[0m\u001b[0margs\u001b[0m\u001b[0;34m=\u001b[0m\u001b[0margs\u001b[0m\u001b[0;34m)\u001b[0m\u001b[0;34m\u001b[0m\u001b[0;34m\u001b[0m\u001b[0m\n\u001b[1;32m     51\u001b[0m \u001b[0;34m\u001b[0m\u001b[0m\n",
            "\u001b[0;31mAttributeError\u001b[0m: module 'chemprop' has no attribute 'args'"
          ]
        }
      ]
    }
  ]
}